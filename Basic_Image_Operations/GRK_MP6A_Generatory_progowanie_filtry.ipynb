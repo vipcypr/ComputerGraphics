{
  "nbformat": 4,
  "nbformat_minor": 0,
  "metadata": {
    "colab": {
      "provenance": []
    },
    "kernelspec": {
      "name": "python3",
      "display_name": "Python 3"
    },
    "language_info": {
      "name": "python"
    }
  },
  "cells": [
    {
      "cell_type": "markdown",
      "source": [
        "# **MP6A - Generatory, Progowanie i Filtry**"
      ],
      "metadata": {
        "id": "MkX1sTlAXCNM"
      }
    },
    {
      "cell_type": "markdown",
      "source": [
        "# Obsługa błędów\n",
        "\n",
        "Jeżeli podczas interpretacji kodu Python wystąpi błąd, wykonywanie programu zatrzyma się i zostanie zwrócony odpowiedni komunikat. Możemy się przed tym zabezpieczyć stosując konstrukcję *try/except*. Jeżeli wystąpi błąd w sekcji następującej po słowie kluczowym *try* (w tym przypadku próbujemy zmodyfikować zawartość zmiennej niemutowalnego typu *str*), wykonana zostanie sekcja następująca po *except*. W poniższym przykładzie komunikat towarzyszący błędowi przechowujemy dodatkowo w zmiennej *error*, który możemy wypisać na ekran:"
      ],
      "metadata": {
        "id": "fJP6CcKxTOy5"
      }
    },
    {
      "cell_type": "code",
      "source": [
        "s = 'abc'\n",
        "print(type(s))\n",
        "\n",
        "try:\n",
        "  s[2] = 'A'\n",
        "except TypeError as error:\n",
        "  print(f\"Wystąpił błąd: {error}\")\n",
        "\n",
        "print('...ale program wykonuje się dalej')"
      ],
      "metadata": {
        "id": "6zM0SmpFTjDR",
        "colab": {
          "base_uri": "https://localhost:8080/"
        },
        "outputId": "b081dead-1f51-4d40-fb68-8e58f9e70903"
      },
      "execution_count": null,
      "outputs": [
        {
          "output_type": "stream",
          "name": "stdout",
          "text": [
            "<class 'str'>\n",
            "Wystąpił błąd: 'str' object does not support item assignment\n",
            "...ale program wykonuje się dalej\n"
          ]
        }
      ]
    },
    {
      "cell_type": "markdown",
      "source": [
        "W sekcji *try* może znajdować się sekwencja instrukcji, ale dobrą praktyką jest zabezpieczanie w ten sposób jak najkrótszych kawałków kodu, optymalnie pojedynczych instrukcji, tak żeby precyzyjnie wyłapywać miejsce powstawania błędu.\n",
        "\n",
        "Z tego samego powodu technicznie można, ale nie powinniśmy stosować słowa kluczowego *except* bez wskazania, którego konkretnie błędu powinien oczekiwać, przykładowo:\n",
        "\n",
        "\n",
        "\n",
        "```\n",
        "try:\n",
        "  może_tu_jest_błąd()\n",
        "  a_może_tutaj_kto_wie()\n",
        "except:\n",
        "  print(\"gdzieś wystąpił jakiś błąd\")\n",
        "```\n",
        "\n"
      ],
      "metadata": {
        "id": "qGqcUK8GVdAP"
      }
    },
    {
      "cell_type": "markdown",
      "source": [
        "# Zadanie na 3:\n",
        "\n",
        "Korzystając z powyższej wiedzy, zabezpiecz się przed próbą utworzenia obiektu obrazka gdy w poniższym przykładzie wczytamy plik .txt.\n",
        "\n",
        "W przypadku, gdy plik nie będzie prawidłowym obrazkiem, wypisz komunikat \"Zły format pliku: \" i podaj jego nazwę."
      ],
      "metadata": {
        "id": "zXgHSKgHXUKo"
      }
    },
    {
      "cell_type": "code",
      "source": [
        "# Zadanie na 3 - zmodyfikuj poniższy kod, tak aby zabezpieczyć go przed próbą wczytania plików .txt zamiast plików obrazka.\n",
        "\n",
        "from google.colab import files\n",
        "import cv2\n",
        "from google.colab.patches import cv2_imshow\n",
        "\n",
        "try:\n",
        "  uploaded_files = files.upload()\n",
        "  first_file = list(uploaded_files.keys())[0]\n",
        "  if first_file.endswith(\".txt\"):\n",
        "    raise(TypeError(f\"Zły format pliku: {first_file}\"))\n",
        "  image = cv2.imread(first_file)\n",
        "  cv2_imshow(image)\n",
        "except TypeError as error:\n",
        "  print(f\"{error}\")\n"
      ],
      "metadata": {
        "id": "dzU6FS33XyXa",
        "colab": {
          "base_uri": "https://localhost:8080/",
          "height": 111
        },
        "outputId": "2a495409-d1cf-4b4a-e9e4-1a1a24097bf9"
      },
      "execution_count": null,
      "outputs": [
        {
          "output_type": "display_data",
          "data": {
            "text/plain": [
              "<IPython.core.display.HTML object>"
            ],
            "text/html": [
              "\n",
              "     <input type=\"file\" id=\"files-89abc48b-f495-4d94-8aef-da6f9b73e215\" name=\"files[]\" multiple disabled\n",
              "        style=\"border:none\" />\n",
              "     <output id=\"result-89abc48b-f495-4d94-8aef-da6f9b73e215\">\n",
              "      Upload widget is only available when the cell has been executed in the\n",
              "      current browser session. Please rerun this cell to enable.\n",
              "      </output>\n",
              "      <script>// Copyright 2017 Google LLC\n",
              "//\n",
              "// Licensed under the Apache License, Version 2.0 (the \"License\");\n",
              "// you may not use this file except in compliance with the License.\n",
              "// You may obtain a copy of the License at\n",
              "//\n",
              "//      http://www.apache.org/licenses/LICENSE-2.0\n",
              "//\n",
              "// Unless required by applicable law or agreed to in writing, software\n",
              "// distributed under the License is distributed on an \"AS IS\" BASIS,\n",
              "// WITHOUT WARRANTIES OR CONDITIONS OF ANY KIND, either express or implied.\n",
              "// See the License for the specific language governing permissions and\n",
              "// limitations under the License.\n",
              "\n",
              "/**\n",
              " * @fileoverview Helpers for google.colab Python module.\n",
              " */\n",
              "(function(scope) {\n",
              "function span(text, styleAttributes = {}) {\n",
              "  const element = document.createElement('span');\n",
              "  element.textContent = text;\n",
              "  for (const key of Object.keys(styleAttributes)) {\n",
              "    element.style[key] = styleAttributes[key];\n",
              "  }\n",
              "  return element;\n",
              "}\n",
              "\n",
              "// Max number of bytes which will be uploaded at a time.\n",
              "const MAX_PAYLOAD_SIZE = 100 * 1024;\n",
              "\n",
              "function _uploadFiles(inputId, outputId) {\n",
              "  const steps = uploadFilesStep(inputId, outputId);\n",
              "  const outputElement = document.getElementById(outputId);\n",
              "  // Cache steps on the outputElement to make it available for the next call\n",
              "  // to uploadFilesContinue from Python.\n",
              "  outputElement.steps = steps;\n",
              "\n",
              "  return _uploadFilesContinue(outputId);\n",
              "}\n",
              "\n",
              "// This is roughly an async generator (not supported in the browser yet),\n",
              "// where there are multiple asynchronous steps and the Python side is going\n",
              "// to poll for completion of each step.\n",
              "// This uses a Promise to block the python side on completion of each step,\n",
              "// then passes the result of the previous step as the input to the next step.\n",
              "function _uploadFilesContinue(outputId) {\n",
              "  const outputElement = document.getElementById(outputId);\n",
              "  const steps = outputElement.steps;\n",
              "\n",
              "  const next = steps.next(outputElement.lastPromiseValue);\n",
              "  return Promise.resolve(next.value.promise).then((value) => {\n",
              "    // Cache the last promise value to make it available to the next\n",
              "    // step of the generator.\n",
              "    outputElement.lastPromiseValue = value;\n",
              "    return next.value.response;\n",
              "  });\n",
              "}\n",
              "\n",
              "/**\n",
              " * Generator function which is called between each async step of the upload\n",
              " * process.\n",
              " * @param {string} inputId Element ID of the input file picker element.\n",
              " * @param {string} outputId Element ID of the output display.\n",
              " * @return {!Iterable<!Object>} Iterable of next steps.\n",
              " */\n",
              "function* uploadFilesStep(inputId, outputId) {\n",
              "  const inputElement = document.getElementById(inputId);\n",
              "  inputElement.disabled = false;\n",
              "\n",
              "  const outputElement = document.getElementById(outputId);\n",
              "  outputElement.innerHTML = '';\n",
              "\n",
              "  const pickedPromise = new Promise((resolve) => {\n",
              "    inputElement.addEventListener('change', (e) => {\n",
              "      resolve(e.target.files);\n",
              "    });\n",
              "  });\n",
              "\n",
              "  const cancel = document.createElement('button');\n",
              "  inputElement.parentElement.appendChild(cancel);\n",
              "  cancel.textContent = 'Cancel upload';\n",
              "  const cancelPromise = new Promise((resolve) => {\n",
              "    cancel.onclick = () => {\n",
              "      resolve(null);\n",
              "    };\n",
              "  });\n",
              "\n",
              "  // Wait for the user to pick the files.\n",
              "  const files = yield {\n",
              "    promise: Promise.race([pickedPromise, cancelPromise]),\n",
              "    response: {\n",
              "      action: 'starting',\n",
              "    }\n",
              "  };\n",
              "\n",
              "  cancel.remove();\n",
              "\n",
              "  // Disable the input element since further picks are not allowed.\n",
              "  inputElement.disabled = true;\n",
              "\n",
              "  if (!files) {\n",
              "    return {\n",
              "      response: {\n",
              "        action: 'complete',\n",
              "      }\n",
              "    };\n",
              "  }\n",
              "\n",
              "  for (const file of files) {\n",
              "    const li = document.createElement('li');\n",
              "    li.append(span(file.name, {fontWeight: 'bold'}));\n",
              "    li.append(span(\n",
              "        `(${file.type || 'n/a'}) - ${file.size} bytes, ` +\n",
              "        `last modified: ${\n",
              "            file.lastModifiedDate ? file.lastModifiedDate.toLocaleDateString() :\n",
              "                                    'n/a'} - `));\n",
              "    const percent = span('0% done');\n",
              "    li.appendChild(percent);\n",
              "\n",
              "    outputElement.appendChild(li);\n",
              "\n",
              "    const fileDataPromise = new Promise((resolve) => {\n",
              "      const reader = new FileReader();\n",
              "      reader.onload = (e) => {\n",
              "        resolve(e.target.result);\n",
              "      };\n",
              "      reader.readAsArrayBuffer(file);\n",
              "    });\n",
              "    // Wait for the data to be ready.\n",
              "    let fileData = yield {\n",
              "      promise: fileDataPromise,\n",
              "      response: {\n",
              "        action: 'continue',\n",
              "      }\n",
              "    };\n",
              "\n",
              "    // Use a chunked sending to avoid message size limits. See b/62115660.\n",
              "    let position = 0;\n",
              "    do {\n",
              "      const length = Math.min(fileData.byteLength - position, MAX_PAYLOAD_SIZE);\n",
              "      const chunk = new Uint8Array(fileData, position, length);\n",
              "      position += length;\n",
              "\n",
              "      const base64 = btoa(String.fromCharCode.apply(null, chunk));\n",
              "      yield {\n",
              "        response: {\n",
              "          action: 'append',\n",
              "          file: file.name,\n",
              "          data: base64,\n",
              "        },\n",
              "      };\n",
              "\n",
              "      let percentDone = fileData.byteLength === 0 ?\n",
              "          100 :\n",
              "          Math.round((position / fileData.byteLength) * 100);\n",
              "      percent.textContent = `${percentDone}% done`;\n",
              "\n",
              "    } while (position < fileData.byteLength);\n",
              "  }\n",
              "\n",
              "  // All done.\n",
              "  yield {\n",
              "    response: {\n",
              "      action: 'complete',\n",
              "    }\n",
              "  };\n",
              "}\n",
              "\n",
              "scope.google = scope.google || {};\n",
              "scope.google.colab = scope.google.colab || {};\n",
              "scope.google.colab._files = {\n",
              "  _uploadFiles,\n",
              "  _uploadFilesContinue,\n",
              "};\n",
              "})(self);\n",
              "</script> "
            ]
          },
          "metadata": {}
        },
        {
          "output_type": "stream",
          "name": "stdout",
          "text": [
            "Saving AA.txt to AA (3).txt\n",
            "Zły format pliku: AA (3).txt\n"
          ]
        }
      ]
    },
    {
      "cell_type": "markdown",
      "source": [
        "# Przekazywanie do funkcji zmiennej ilości argumentów\n",
        "\n",
        "Jeżeli nasza funkcja ma przyjmować jeden lub więcej argumenty, ale nie wiemy dokładnie, ile ich może być, stosujemy notację z pojedynczą gwiazdką:\n",
        "\n",
        "\n",
        "```\n",
        "def funkcja(*argumenty: typ) -> zwracany_typ:\n",
        "  ...\n",
        "```\n",
        "\n",
        "Poszczególne argumenty przekazywane są do funkcji jako kolejne elementy krotki (z ang.: *tuple*), i możemy się do nich dostać iterując po nich, lub indeksując konkretne elementy:\n"
      ],
      "metadata": {
        "id": "YUQDaFitejSu"
      }
    },
    {
      "cell_type": "code",
      "source": [
        "def funkcja(*argumenty: str) -> None:\n",
        "  print(argumenty)\n",
        "  print(type(argumenty))\n",
        "  print(argumenty[0])\n",
        "  for numer, argument in enumerate(argumenty):\n",
        "    print(f\"Argument nr {numer}: {argumenty[numer]}\")\n",
        "\n",
        "\n",
        "funkcja(\"ala\", \"ma\", \"kota\")"
      ],
      "metadata": {
        "id": "SlImfP6OecTD",
        "colab": {
          "base_uri": "https://localhost:8080/"
        },
        "outputId": "e232b55b-e092-4a5e-f748-dab678d61a53"
      },
      "execution_count": null,
      "outputs": [
        {
          "output_type": "stream",
          "name": "stdout",
          "text": [
            "('ala', 'ma', 'kota')\n",
            "<class 'tuple'>\n",
            "ala\n",
            "Argument nr 0: ala\n",
            "Argument nr 1: ma\n",
            "Argument nr 2: kota\n"
          ]
        }
      ]
    },
    {
      "cell_type": "markdown",
      "source": [
        "# Generatory\n",
        "\n",
        "Generatory w Pythonie to funkcje, które w efekcie swojego działania zwracają tzw. *iteratory*, czyli obiekty, przez których elementy możemy przechodzić sekwencyjnie.\n",
        "\n",
        "Przykładem jest generator, który przyjmuje jako argument zmienną typu string, następnie udostępnia stringi wychwalające jej pojedyncze litery losowymi epitetami. W poniższym przykładzie importujemy typ Iterator, żeby zastosować go do wspomagania podpowiedzi zwracanych przez funkcję typów."
      ],
      "metadata": {
        "id": "QEZzuRQxZdOD"
      }
    },
    {
      "cell_type": "code",
      "source": [
        "from typing import Iterator\n",
        "from random import choice\n",
        "\n",
        "\n",
        "def propaganda(wejscie: str) -> Iterator[str]:\n",
        "\n",
        "  lista_liter = list(wejscie)\n",
        "\n",
        "  for litera in lista_liter:\n",
        "    epitety = [\"Cudowna\", \"Wspaniala\", \"Rewelacyjna\"]\n",
        "    pochwala = choice(epitety)\n",
        "    yield f\"{pochwala} litera {litera}\"\n",
        "\n",
        "\n",
        "obiekt = propaganda('Pies')\n",
        "\n",
        "print(obiekt)"
      ],
      "metadata": {
        "id": "OOF3hR9jahNX",
        "colab": {
          "base_uri": "https://localhost:8080/"
        },
        "outputId": "a0b5a289-4676-46f3-b5b5-ca79cf03fb86"
      },
      "execution_count": null,
      "outputs": [
        {
          "output_type": "stream",
          "name": "stdout",
          "text": [
            "<generator object propaganda at 0x7dbb932245f0>\n"
          ]
        }
      ]
    },
    {
      "cell_type": "markdown",
      "source": [
        "Jak widzimy przy próbie wypisania zwróconego przez funkcję obiektu, nie dostajemy pojedynczych elementów, są one spakowane i możemy przez nie przejść, np. pętlą *for*:"
      ],
      "metadata": {
        "id": "tTec1QircziX"
      }
    },
    {
      "cell_type": "code",
      "source": [
        "for i in obiekt:\n",
        "  print(i)"
      ],
      "metadata": {
        "id": "E7bChZ0HcX7w",
        "colab": {
          "base_uri": "https://localhost:8080/"
        },
        "outputId": "0b82bb51-1679-4aa0-e27d-e322b72e1b7a"
      },
      "execution_count": null,
      "outputs": [
        {
          "output_type": "stream",
          "name": "stdout",
          "text": [
            "Wspaniala litera P\n",
            "Wspaniala litera i\n",
            "Cudowna litera e\n",
            "Cudowna litera s\n"
          ]
        }
      ]
    },
    {
      "cell_type": "markdown",
      "source": [
        "Jeżeli efekt działania generatora ma skończoną liczbę elementów, są one podawane są tylko raz. \"Zużyty\" iterator nie zwraca już nowych elementów. Jeżeli będziemy próbowali pobrać kolejny element iteratora za pomocą funkcji *next*, dostaniemy błąd *StopIteration*:\n",
        "\n"
      ],
      "metadata": {
        "id": "7ui6brEQh9nO"
      }
    },
    {
      "cell_type": "code",
      "source": [
        "try:\n",
        "  print(next(obiekt))\n",
        "except StopIteration:\n",
        "  print(\"Empty\")"
      ],
      "metadata": {
        "id": "AywqQObfjhoZ",
        "colab": {
          "base_uri": "https://localhost:8080/"
        },
        "outputId": "622ad80c-ac74-43bf-b2dd-80a4595c7e51"
      },
      "execution_count": null,
      "outputs": [
        {
          "output_type": "stream",
          "name": "stdout",
          "text": [
            "Empty\n"
          ]
        }
      ]
    },
    {
      "cell_type": "markdown",
      "source": [
        "Można jednakże stworzyć jego nową instancję (w poniższym przykładzie do poszczególnych elementów odwołujemy się pojedynczo, z sukcesem korzystając każdorazowo z funkcji *next*):"
      ],
      "metadata": {
        "id": "E9di-OaxkHqU"
      }
    },
    {
      "cell_type": "code",
      "source": [
        "obiekt = propaganda('Pies')\n",
        "\n",
        "print(next(obiekt))\n",
        "print(next(obiekt))\n",
        "print(next(obiekt))\n",
        "print(next(obiekt))"
      ],
      "metadata": {
        "id": "PZW7y2pbkNjR",
        "colab": {
          "base_uri": "https://localhost:8080/"
        },
        "outputId": "c2bed4c3-2aa8-4c9e-de20-4787eee57db6"
      },
      "execution_count": null,
      "outputs": [
        {
          "output_type": "stream",
          "name": "stdout",
          "text": [
            "Wspaniala litera P\n",
            "Wspaniala litera i\n",
            "Rewelacyjna litera e\n",
            "Cudowna litera s\n"
          ]
        }
      ]
    },
    {
      "cell_type": "markdown",
      "source": [
        "Wywołując funkcję *next* możemy podać jej, jako drugi argument nienazwany, również parametr domyślny. Będzie od zwracany - zamiast błędu *StopIteration* - gdy iterator do którego się odwołujemy został już opróżniony z wartości."
      ],
      "metadata": {
        "id": "ryo2zUt-cK3G"
      }
    },
    {
      "cell_type": "code",
      "source": [
        "obiekt = propaganda('A')\n",
        "\n",
        "print(next(obiekt, \"Pustka\"))\n",
        "print(next(obiekt, \"Pustka\"))\n",
        "print(next(obiekt, \"Pustka\"))"
      ],
      "metadata": {
        "id": "NhP2_YCtctYh",
        "colab": {
          "base_uri": "https://localhost:8080/"
        },
        "outputId": "ce0b1f80-2654-43c9-b64a-54b83764fbee"
      },
      "execution_count": null,
      "outputs": [
        {
          "output_type": "stream",
          "name": "stdout",
          "text": [
            "Rewelacyjna litera A\n",
            "Pustka\n",
            "Pustka\n"
          ]
        }
      ]
    },
    {
      "cell_type": "markdown",
      "source": [
        "# Zadanie na 3.5\n",
        "\n",
        "Funkcja *print* również przyjmuje więcej niż jeden argument. Ustawiając separator wypisywanych przez nią elementów na wartość \"\\n\", wypisz cały stworzony wcześniej iterator korzystając z jednego polecenia print tak aby osiągnąć podobny efekt do powyższego (czyli każda pochwała w osobnej linii).\n",
        "\n",
        "W razie potrzeby skorzystaj z dokumentacji: https://docs.python.org/3/library/functions.html?highlight=print#print"
      ],
      "metadata": {
        "id": "RGBq5y2flCP8"
      }
    },
    {
      "cell_type": "code",
      "source": [
        "obiekt = propaganda('Pies ')\n",
        "print(*obiekt, sep=\"\\n\" )    # wstaw swoje rozwiązanie na 3.5 jako parametry funkcji print"
      ],
      "metadata": {
        "id": "Lk99AGq1kn5l",
        "colab": {
          "base_uri": "https://localhost:8080/"
        },
        "outputId": "340d93f9-d468-411b-d5e5-622c18e16f94"
      },
      "execution_count": null,
      "outputs": [
        {
          "output_type": "stream",
          "name": "stdout",
          "text": [
            "Cudowna litera P\n",
            "Rewelacyjna litera i\n",
            "Wspaniala litera e\n",
            "Wspaniala litera s\n",
            "Cudowna litera  \n"
          ]
        }
      ]
    },
    {
      "cell_type": "markdown",
      "source": [
        "# Zadanie na 4\n",
        "\n",
        "Wykorzystując zebrane umiejętności, stwórz własny generator, który wczyta jeden lub więcej obrazków i zwróci iterator zwracający ich pomniejszone do rozmiarów 64x64 miniatury. Wyświetl wszystkie uzyskane miniatury iterując przez obiekt wynikowy.\n",
        "\n",
        "Do zmiany rozmiaru skorzystaj z metody *.resize* wg poniższego przykładu:\n",
        "\n",
        "```\n",
        "dimensions = (64, 64)\n",
        "resized_image = cv2.resize(source_image, dimensions)\n",
        "cv2_imshow(resized_image)\n",
        "```\n",
        "\n",
        "![image.png](data:image/png;base64,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)\n"
      ],
      "metadata": {
        "id": "RYWI--SbnXr-"
      }
    },
    {
      "cell_type": "code",
      "source": [
        "def resize_image(file_paths, size):\n",
        "    for path in file_paths:\n",
        "        try:\n",
        "            image = cv2.imread(path)\n",
        "            if image is None:\n",
        "                raise ValueError(f\"File {path} is not a valid image.\")\n",
        "            resized_image = cv2.resize(image, size)\n",
        "            yield resized_image\n",
        "        except Exception as e:\n",
        "            print(f\"{e}\")\n"
      ],
      "metadata": {
        "id": "ewYoXjxEGFoC"
      },
      "execution_count": null,
      "outputs": []
    },
    {
      "cell_type": "code",
      "source": [
        "# Zadanie na 4\n",
        "uploaded_files = files.upload()\n",
        "first_file = list(uploaded_files.keys())\n",
        "resized_image = resize_image(first_file, (64, 64))\n",
        "\n",
        "for img in resized_image:\n",
        "    cv2_imshow(img)\n",
        "\n",
        "\n"
      ],
      "metadata": {
        "id": "JJYwi128mfni",
        "colab": {
          "base_uri": "https://localhost:8080/",
          "height": 257
        },
        "outputId": "0cf6acde-9da5-4469-ef2c-5782bf25a588"
      },
      "execution_count": null,
      "outputs": [
        {
          "output_type": "display_data",
          "data": {
            "text/plain": [
              "<IPython.core.display.HTML object>"
            ],
            "text/html": [
              "\n",
              "     <input type=\"file\" id=\"files-606faf00-46b8-48be-a38a-6c2b29fb8051\" name=\"files[]\" multiple disabled\n",
              "        style=\"border:none\" />\n",
              "     <output id=\"result-606faf00-46b8-48be-a38a-6c2b29fb8051\">\n",
              "      Upload widget is only available when the cell has been executed in the\n",
              "      current browser session. Please rerun this cell to enable.\n",
              "      </output>\n",
              "      <script>// Copyright 2017 Google LLC\n",
              "//\n",
              "// Licensed under the Apache License, Version 2.0 (the \"License\");\n",
              "// you may not use this file except in compliance with the License.\n",
              "// You may obtain a copy of the License at\n",
              "//\n",
              "//      http://www.apache.org/licenses/LICENSE-2.0\n",
              "//\n",
              "// Unless required by applicable law or agreed to in writing, software\n",
              "// distributed under the License is distributed on an \"AS IS\" BASIS,\n",
              "// WITHOUT WARRANTIES OR CONDITIONS OF ANY KIND, either express or implied.\n",
              "// See the License for the specific language governing permissions and\n",
              "// limitations under the License.\n",
              "\n",
              "/**\n",
              " * @fileoverview Helpers for google.colab Python module.\n",
              " */\n",
              "(function(scope) {\n",
              "function span(text, styleAttributes = {}) {\n",
              "  const element = document.createElement('span');\n",
              "  element.textContent = text;\n",
              "  for (const key of Object.keys(styleAttributes)) {\n",
              "    element.style[key] = styleAttributes[key];\n",
              "  }\n",
              "  return element;\n",
              "}\n",
              "\n",
              "// Max number of bytes which will be uploaded at a time.\n",
              "const MAX_PAYLOAD_SIZE = 100 * 1024;\n",
              "\n",
              "function _uploadFiles(inputId, outputId) {\n",
              "  const steps = uploadFilesStep(inputId, outputId);\n",
              "  const outputElement = document.getElementById(outputId);\n",
              "  // Cache steps on the outputElement to make it available for the next call\n",
              "  // to uploadFilesContinue from Python.\n",
              "  outputElement.steps = steps;\n",
              "\n",
              "  return _uploadFilesContinue(outputId);\n",
              "}\n",
              "\n",
              "// This is roughly an async generator (not supported in the browser yet),\n",
              "// where there are multiple asynchronous steps and the Python side is going\n",
              "// to poll for completion of each step.\n",
              "// This uses a Promise to block the python side on completion of each step,\n",
              "// then passes the result of the previous step as the input to the next step.\n",
              "function _uploadFilesContinue(outputId) {\n",
              "  const outputElement = document.getElementById(outputId);\n",
              "  const steps = outputElement.steps;\n",
              "\n",
              "  const next = steps.next(outputElement.lastPromiseValue);\n",
              "  return Promise.resolve(next.value.promise).then((value) => {\n",
              "    // Cache the last promise value to make it available to the next\n",
              "    // step of the generator.\n",
              "    outputElement.lastPromiseValue = value;\n",
              "    return next.value.response;\n",
              "  });\n",
              "}\n",
              "\n",
              "/**\n",
              " * Generator function which is called between each async step of the upload\n",
              " * process.\n",
              " * @param {string} inputId Element ID of the input file picker element.\n",
              " * @param {string} outputId Element ID of the output display.\n",
              " * @return {!Iterable<!Object>} Iterable of next steps.\n",
              " */\n",
              "function* uploadFilesStep(inputId, outputId) {\n",
              "  const inputElement = document.getElementById(inputId);\n",
              "  inputElement.disabled = false;\n",
              "\n",
              "  const outputElement = document.getElementById(outputId);\n",
              "  outputElement.innerHTML = '';\n",
              "\n",
              "  const pickedPromise = new Promise((resolve) => {\n",
              "    inputElement.addEventListener('change', (e) => {\n",
              "      resolve(e.target.files);\n",
              "    });\n",
              "  });\n",
              "\n",
              "  const cancel = document.createElement('button');\n",
              "  inputElement.parentElement.appendChild(cancel);\n",
              "  cancel.textContent = 'Cancel upload';\n",
              "  const cancelPromise = new Promise((resolve) => {\n",
              "    cancel.onclick = () => {\n",
              "      resolve(null);\n",
              "    };\n",
              "  });\n",
              "\n",
              "  // Wait for the user to pick the files.\n",
              "  const files = yield {\n",
              "    promise: Promise.race([pickedPromise, cancelPromise]),\n",
              "    response: {\n",
              "      action: 'starting',\n",
              "    }\n",
              "  };\n",
              "\n",
              "  cancel.remove();\n",
              "\n",
              "  // Disable the input element since further picks are not allowed.\n",
              "  inputElement.disabled = true;\n",
              "\n",
              "  if (!files) {\n",
              "    return {\n",
              "      response: {\n",
              "        action: 'complete',\n",
              "      }\n",
              "    };\n",
              "  }\n",
              "\n",
              "  for (const file of files) {\n",
              "    const li = document.createElement('li');\n",
              "    li.append(span(file.name, {fontWeight: 'bold'}));\n",
              "    li.append(span(\n",
              "        `(${file.type || 'n/a'}) - ${file.size} bytes, ` +\n",
              "        `last modified: ${\n",
              "            file.lastModifiedDate ? file.lastModifiedDate.toLocaleDateString() :\n",
              "                                    'n/a'} - `));\n",
              "    const percent = span('0% done');\n",
              "    li.appendChild(percent);\n",
              "\n",
              "    outputElement.appendChild(li);\n",
              "\n",
              "    const fileDataPromise = new Promise((resolve) => {\n",
              "      const reader = new FileReader();\n",
              "      reader.onload = (e) => {\n",
              "        resolve(e.target.result);\n",
              "      };\n",
              "      reader.readAsArrayBuffer(file);\n",
              "    });\n",
              "    // Wait for the data to be ready.\n",
              "    let fileData = yield {\n",
              "      promise: fileDataPromise,\n",
              "      response: {\n",
              "        action: 'continue',\n",
              "      }\n",
              "    };\n",
              "\n",
              "    // Use a chunked sending to avoid message size limits. See b/62115660.\n",
              "    let position = 0;\n",
              "    do {\n",
              "      const length = Math.min(fileData.byteLength - position, MAX_PAYLOAD_SIZE);\n",
              "      const chunk = new Uint8Array(fileData, position, length);\n",
              "      position += length;\n",
              "\n",
              "      const base64 = btoa(String.fromCharCode.apply(null, chunk));\n",
              "      yield {\n",
              "        response: {\n",
              "          action: 'append',\n",
              "          file: file.name,\n",
              "          data: base64,\n",
              "        },\n",
              "      };\n",
              "\n",
              "      let percentDone = fileData.byteLength === 0 ?\n",
              "          100 :\n",
              "          Math.round((position / fileData.byteLength) * 100);\n",
              "      percent.textContent = `${percentDone}% done`;\n",
              "\n",
              "    } while (position < fileData.byteLength);\n",
              "  }\n",
              "\n",
              "  // All done.\n",
              "  yield {\n",
              "    response: {\n",
              "      action: 'complete',\n",
              "    }\n",
              "  };\n",
              "}\n",
              "\n",
              "scope.google = scope.google || {};\n",
              "scope.google.colab = scope.google.colab || {};\n",
              "scope.google.colab._files = {\n",
              "  _uploadFiles,\n",
              "  _uploadFilesContinue,\n",
              "};\n",
              "})(self);\n",
              "</script> "
            ]
          },
          "metadata": {}
        },
        {
          "output_type": "stream",
          "name": "stdout",
          "text": [
            "Saving bggag.jpg to bggag.jpg\n",
            "Saving agga.jpg to agga (8).jpg\n"
          ]
        },
        {
          "output_type": "display_data",
          "data": {
            "text/plain": [
              "<PIL.Image.Image image mode=RGB size=64x64>"
            ],
            "image/png": "[encoded data removed]",
            "image/jpeg": "[encoded data removed]"
          },
          "metadata": {}
        },
        {
          "output_type": "display_data",
          "data": {
            "text/plain": [
              "<PIL.Image.Image image mode=RGB size=64x64>"
            ],
            "image/png": "[encoded data removed]",
            "image/jpeg": "[encoded data removed]"
          },
          "metadata": {}
        }
      ]
    }
  ]
}